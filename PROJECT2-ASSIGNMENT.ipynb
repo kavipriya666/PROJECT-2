{
 "cells": [
  {
   "cell_type": "markdown",
   "metadata": {},
   "source": [
    "# EMAIL SENDING PROJECT"
   ]
  },
  {
   "cell_type": "code",
   "execution_count": 1,
   "metadata": {},
   "outputs": [],
   "source": [
    "import emails\n",
    "\n"
   ]
  },
  {
   "cell_type": "code",
   "execution_count": 2,
   "metadata": {},
   "outputs": [],
   "source": [
    "html_text ='''<p>HI</p>\n",
    "<p>I am Kavipriya</p>\n",
    "<p>Happy to learn python from letsupgrade</p>\n",
    "<p>Thanks and Regards</p>\n",
    "<p>KAVIPRIYA R</p>'''"
   ]
  },
  {
   "cell_type": "code",
   "execution_count": 3,
   "metadata": {},
   "outputs": [],
   "source": [
    "message = emails.html(html = html_text,\n",
    "subject=\"EMAIL REGARDING PYTHON SCRIPT\",\n",
    "mail_from=('STUDENT_LetsUpgrade', 'kavipriyathararangan@gmail.com'))"
   ]
  },
  {
   "cell_type": "code",
   "execution_count": 4,
   "metadata": {},
   "outputs": [],
   "source": [
    "mail_via_python=message.send(to='kavipriyaranganathan7@gmail.com', smtp={'host': 'smtp.gmail.com', \n",
    "                                     'timeout': 5,\n",
    "                                    'port':587, 'user':'kavipriyathararangan@gmail.com',\n",
    "                                    'password':'Thara666@','tls':True})"
   ]
  },
  {
   "cell_type": "code",
   "execution_count": 5,
   "metadata": {},
   "outputs": [
    {
     "data": {
      "text/plain": [
       "<emails.backend.SMTPResponse status_code=None status_text=None>"
      ]
     },
     "execution_count": 5,
     "metadata": {},
     "output_type": "execute_result"
    }
   ],
   "source": [
    "mail_via_python"
   ]
  },
  {
   "cell_type": "code",
   "execution_count": 7,
   "metadata": {},
   "outputs": [
    {
     "data": {
      "text/plain": [
       "False"
      ]
     },
     "execution_count": 7,
     "metadata": {},
     "output_type": "execute_result"
    }
   ],
   "source": [
    "mail_via_python.status_code==250"
   ]
  },
  {
   "cell_type": "raw",
   "metadata": {},
   "source": [
    "# i have executed the same program may times but could not generating any mails"
   ]
  }
 ],
 "metadata": {
  "kernelspec": {
   "display_name": "Python 3",
   "language": "python",
   "name": "python3"
  },
  "language_info": {
   "codemirror_mode": {
    "name": "ipython",
    "version": 3
   },
   "file_extension": ".py",
   "mimetype": "text/x-python",
   "name": "python",
   "nbconvert_exporter": "python",
   "pygments_lexer": "ipython3",
   "version": "3.7.4"
  }
 },
 "nbformat": 4,
 "nbformat_minor": 2
}
